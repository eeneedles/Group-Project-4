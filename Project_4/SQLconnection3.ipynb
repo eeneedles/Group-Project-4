{
  "cells": [
    {
      "cell_type": "code",
      "execution_count": 1,
      "metadata": {
        "colab": {
          "base_uri": "https://localhost:8080/"
        },
        "id": "LnIL1gaNSB7g",
        "outputId": "ee195849-6b49-4984-ead7-0201324f87e4"
      },
      "outputs": [
        {
          "data": {
            "text/plain": [
              "<sqlite3.Cursor at 0x105d14740>"
            ]
          },
          "execution_count": 1,
          "metadata": {},
          "output_type": "execute_result"
        }
      ],
      "source": [
        "import sqlite3\n",
        "\n",
        "conn = sqlite3.connect('dog_images.db', timeout=10)\n",
        "\n",
        "c = conn.cursor()\n",
        "\n",
        "c.execute('DROP TABLE IF EXISTS dogimages')\n"
      ]
    },
    {
      "cell_type": "code",
      "execution_count": 2,
      "metadata": {
        "colab": {
          "base_uri": "https://localhost:8080/"
        },
        "id": "i7wIsVv8UVKB",
        "outputId": "6d96d6a2-7b9c-459f-aef3-d8c8eb5fe7f3"
      },
      "outputs": [
        {
          "ename": "ModuleNotFoundError",
          "evalue": "No module named 'google.colab'",
          "output_type": "error",
          "traceback": [
            "\u001b[0;31m---------------------------------------------------------------------------\u001b[0m",
            "\u001b[0;31mModuleNotFoundError\u001b[0m                       Traceback (most recent call last)",
            "Cell \u001b[0;32mIn[2], line 2\u001b[0m\n\u001b[1;32m      1\u001b[0m \u001b[38;5;28;01mimport\u001b[39;00m \u001b[38;5;21;01mos\u001b[39;00m\n\u001b[0;32m----> 2\u001b[0m \u001b[38;5;28;01mfrom\u001b[39;00m \u001b[38;5;21;01mgoogle\u001b[39;00m\u001b[38;5;21;01m.\u001b[39;00m\u001b[38;5;21;01mcolab\u001b[39;00m \u001b[38;5;28;01mimport\u001b[39;00m drive\n\u001b[1;32m      4\u001b[0m drive\u001b[38;5;241m.\u001b[39mmount(\u001b[38;5;124m\"\u001b[39m\u001b[38;5;124m/content/gdrive\u001b[39m\u001b[38;5;124m\"\u001b[39m, force_remount\u001b[38;5;241m=\u001b[39m\u001b[38;5;28;01mTrue\u001b[39;00m)\n",
            "\u001b[0;31mModuleNotFoundError\u001b[0m: No module named 'google.colab'"
          ]
        }
      ],
      "source": [
        "import os\n",
        "from google.colab import drive\n",
        "\n",
        "drive.mount(\"/content/gdrive\", force_remount=True)"
      ]
    },
    {
      "cell_type": "code",
      "execution_count": null,
      "metadata": {
        "id": "zVAO_VHh-p6C"
      },
      "outputs": [],
      "source": [
        "import sqlite3"
      ]
    },
    {
      "cell_type": "code",
      "execution_count": null,
      "metadata": {
        "id": "lcw3XTgLSB7j"
      },
      "outputs": [],
      "source": [
        "c.execute('''\n",
        "          CREATE TABLE iF NOT EXISTS dogimages (\n",
        "            id INTEGER PRIMARY KEY AUTOINCREMENT NOT NULL,\n",
        "            breed TEXT,\n",
        "            image BLOB\n",
        "          )''')\n",
        "\n",
        "conn.commit()\n"
      ]
    },
    {
      "cell_type": "code",
      "execution_count": null,
      "metadata": {
        "colab": {
          "base_uri": "https://localhost:8080/"
        },
        "id": "MK0Pzj5OSB7k",
        "outputId": "ff6571e9-4356-440f-d7c0-31bf394a3578"
      },
      "outputs": [
        {
          "name": "stderr",
          "output_type": "stream",
          "text": [
            "IOPub data rate exceeded.\n",
            "The notebook server will temporarily stop sending output\n",
            "to the client in order to avoid crashing it.\n",
            "To change this limit, set the config variable\n",
            "`--NotebookApp.iopub_data_rate_limit`.\n",
            "\n",
            "Current values:\n",
            "NotebookApp.iopub_data_rate_limit=1000000.0 (bytes/sec)\n",
            "NotebookApp.rate_limit_window=3.0 (secs)\n",
            "\n"
          ]
        }
      ],
      "source": [
        "c.execute(\"SELECT * FROM dogimages LIMIT 100\")\n",
        "\n",
        "my_table = c.fetchall()\n",
        "\n"
      ]
    },
    {
      "cell_type": "code",
      "execution_count": null,
      "metadata": {
        "id": "x8MHNtaCYfeD"
      },
      "outputs": [],
      "source": [
        "def convertToBinaryData(filename):\n",
        "    # Convert digital data to binary format\n",
        "    with open(filename, 'rb') as file:\n",
        "        blobData = file.read()\n",
        "    return blobData\n",
        "\n",
        "def insertBLOB(breed, image):\n",
        "    try:\n",
        "        sqliteConnection = sqlite3.connect('dog_images.db', timeout=10)\n",
        "        cursor = sqliteConnection.cursor()\n",
        "        print(\"Connected to SQLite\")\n",
        "        sqlite_insert_blob_query = \"\"\" INSERT INTO dogimages\n",
        "                                  (breed, image) VALUES (?, ?)\"\"\"\n",
        "\n",
        "        image = convertToBinaryData(image)\n",
        "\n",
        "        # Convert data into tuple format\n",
        "        data_tuple = (breed, image)\n",
        "        cursor.execute(sqlite_insert_blob_query, data_tuple)\n",
        "        sqliteConnection.commit()\n",
        "        print(\"Image and file inserted successfully as a BLOB into a table\")\n",
        "        cursor.close()\n",
        "\n",
        "    except sqlite3.Error as error:\n",
        "        print(\"Failed to insert blob data into sqlite table\", error)\n",
        "    finally:\n",
        "        if sqliteConnection:\n",
        "            sqliteConnection.close()\n",
        "            print(\"the sqlite connection is closed\")\n",
        "\n",
        "current_directory = \"/content/gdrive/MyDrive/Project_4/stanford_dogs/cropped/test/\"\n",
        "\n",
        "contents = os.listdir(current_directory)\n",
        "\n",
        "for item in contents:\n",
        "\n",
        "    directory = f\"/content/gdrive/MyDrive/Project_4/stanford_dogs/cropped/test/{item}\"\n",
        "    contents_sub_dir = os.listdir(directory)\n",
        "    name = item.split(\"-\",1)[1]\n",
        "    for items in contents_sub_dir:\n",
        "      full_path = \"/content/gdrive/MyDrive/Project_4/stanford_dogs/cropped/test/\" + item +\"/\"+ items\n",
        "      insertBLOB(name, full_path)\n",
        "\n",
        "\n",
        "conn.commit()"
      ]
    },
    {
      "cell_type": "code",
      "execution_count": null,
      "metadata": {
        "id": "wv0syHAz2d6L"
      },
      "outputs": [],
      "source": [
        "connection = sqlite3.connect('dog_images.db')\n",
        "cursor = connection.cursor()\n",
        "cursor.execute(\"SELECT image FROM dogimages WHERE image LIKE '%blob%'\")\n",
        "my_table = cursor.fetchall()\n",
        "\n"
      ]
    },
    {
      "cell_type": "code",
      "execution_count": null,
      "metadata": {
        "colab": {
          "base_uri": "https://localhost:8080/"
        },
        "id": "e8eImFpwkFqa",
        "outputId": "06ad6b94-5690-4d1a-8495-c545203aa598"
      },
      "outputs": [
        {
          "name": "stdout",
          "output_type": "stream",
          "text": [
            "The data in image of dogimages seems to be stored as BLOB.\n"
          ]
        }
      ],
      "source": [
        "import sqlite3\n",
        "\n",
        "def check_blob_data(table_name, column_name):\n",
        "    connection = sqlite3.connect('dog_images.db')\n",
        "    cursor = connection.cursor()\n",
        "\n",
        "    # Assuming the first row is representative\n",
        "    cursor.execute(f\"SELECT {column_name} FROM {table_name} LIMIT 1\")\n",
        "    data = cursor.fetchone()[0]\n",
        "\n",
        "    if isinstance(data, bytes):\n",
        "        print(f\"The data in {column_name} of {table_name} seems to be stored as BLOB.\")\n",
        "    else:\n",
        "        print(f\"The data in {column_name} of {table_name} is NOT stored as BLOB. Detected type: {type(data)}\")\n",
        "\n",
        "    cursor.close()\n",
        "    connection.close()\n",
        "\n",
        "# Example usage\n",
        "check_blob_data('dogimages', 'image')"
      ]
    },
    {
      "cell_type": "code",
      "execution_count": null,
      "metadata": {
        "id": "bmw4HqLXsmB9"
      },
      "outputs": [],
      "source": [
        "\n",
        "sqliteConnection = sqlite3.connect('dog_images.db')\n",
        "sql_query = \"\"\"SELECT DISTINCT breed FROM dogimages\"\"\"\n",
        "cursor = sqliteConnection.cursor()\n",
        "cursor.execute(sql_query)\n",
        "my_table = cursor.fetchall()\n",
        "x1= my_table\n",
        "x1\n",
        "#for i in my_table:\n",
        " #   print(i)"
      ]
    },
    {
      "cell_type": "code",
      "execution_count": null,
      "metadata": {
        "colab": {
          "base_uri": "https://localhost:8080/"
        },
        "id": "3K3wgWgBmYJ2",
        "outputId": "a0784572-5310-4b3a-f909-0f0e9f842a8f"
      },
      "outputs": [
        {
          "name": "stdout",
          "output_type": "stream",
          "text": [
            "(8580,)\n"
          ]
        }
      ],
      "source": [
        "\n",
        "sqliteConnection = sqlite3.connect('dog_images.db')\n",
        "sql_query = \"\"\"SELECT COUNT(*) FROM dogimages\"\"\"\n",
        "cursor = sqliteConnection.cursor()\n",
        "cursor.execute(sql_query)\n",
        "my_table = cursor.fetchall()\n",
        "\n",
        "for i in my_table:\n",
        "    print(i)"
      ]
    },
    {
      "cell_type": "code",
      "execution_count": null,
      "metadata": {
        "colab": {
          "background_save": true
        },
        "id": "vNBIe4X-qYm9"
      },
      "outputs": [],
      "source": [
        "def writeTofile(data, filename):\n",
        "    # Convert binary data to proper format and write it on Hard Disk\n",
        "    with open(filename, 'wb') as file:\n",
        "        file.write(data)\n",
        "    print(\"Stored blob data into: \", filename, \"\\n\")\n",
        "\n",
        "def readBlobData(id):\n",
        "    try:\n",
        "        sqliteConnection = sqlite3.connect('dog_images.db')\n",
        "        cursor = sqliteConnection.cursor()\n",
        "        #print(\"Connected to SQLite\")\n",
        "\n",
        "        sql_fetch_blob_query = \"\"\"SELECT * FROM dogimages WHERE id = ?\"\"\"\n",
        "        cursor.execute(sql_fetch_blob_query, (id,))\n",
        "        record = cursor.fetchall()\n",
        "        for row in record:\n",
        "            print(\"breed = \", row[1], \"image = \", row[2])\n",
        "            id = str(row[0])\n",
        "            breed = row[1]\n",
        "            photo = row[2]\n",
        "\n",
        "            nested_path = \"/content/gdrive/MyDrive/Project_4/dogs_db/\" + breed\n",
        "\n",
        "            if not os.path.exists(nested_path):\n",
        "                os.makedirs(nested_path)\n",
        "\n",
        "\n",
        "            print(\"Storing dog image on disk \\n\")\n",
        "            photoPath = \"/content/gdrive/MyDrive/Project_4/dogs_db/\" +breed+ \"/\"  + breed + id+ \".jpg\"\n",
        "\n",
        "            writeTofile(photo, photoPath)\n",
        "\n",
        "\n",
        "        cursor.close()\n",
        "\n",
        "    except sqlite3.Error as error:\n",
        "        print(\"Failed to read blob data from sqlite table\", error)\n",
        "    finally:\n",
        "        if sqliteConnection:\n",
        "          sqliteConnection.close()\n",
        "          #  print(\"sqlite connection is closed\")\n",
        "\n",
        "for i in range(0, 8581):\n",
        "  readBlobData(i)"
      ]
    },
    {
      "cell_type": "code",
      "execution_count": null,
      "metadata": {
        "id": "oniJ-bkgqdWL"
      },
      "outputs": [],
      "source": [
        "from google.colab import drive\n",
        "drive.mount('/content/drive')"
      ]
    },
    {
      "cell_type": "code",
      "execution_count": null,
      "metadata": {
        "id": "o6_eaEWSSB7k"
      },
      "outputs": [],
      "source": [
        "conn.close()"
      ]
    }
  ],
  "metadata": {
    "colab": {
      "provenance": []
    },
    "kernelspec": {
      "display_name": "Python 3 (ipykernel)",
      "language": "python",
      "name": "python3"
    },
    "language_info": {
      "codemirror_mode": {
        "name": "ipython",
        "version": 3
      },
      "file_extension": ".py",
      "mimetype": "text/x-python",
      "name": "python",
      "nbconvert_exporter": "python",
      "pygments_lexer": "ipython3",
      "version": "3.11.5"
    }
  },
  "nbformat": 4,
  "nbformat_minor": 0
}
