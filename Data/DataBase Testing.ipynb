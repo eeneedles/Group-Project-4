{
 "cells": [
  {
   "cell_type": "code",
   "execution_count": 5,
   "metadata": {},
   "outputs": [
    {
     "name": "stdout",
     "output_type": "stream",
     "text": [
      "Image DataFrame:\n",
      "Empty DataFrame\n",
      "Columns: [image_id, file_path, breed_id]\n",
      "Index: []\n"
     ]
    }
   ],
   "source": [
    "import sqlite3\n",
    "import os\n",
    "import pandas as pd\n",
    "\n",
    "# Connect to the database\n",
    "conn = sqlite3.connect('dogs.db')\n",
    "cursor = conn.cursor()\n",
    "\n",
    "# Create tables\n",
    "cursor.execute('''CREATE TABLE IF NOT EXISTS Breeds\n",
    "                (breed_id INTEGER PRIMARY KEY, breed_name TEXT)''')\n",
    "\n",
    "cursor.execute('''CREATE TABLE IF NOT EXISTS Images\n",
    "                (image_id INTEGER PRIMARY KEY, file_path TEXT, breed_id INTEGER,\n",
    "                FOREIGN KEY(breed_id) REFERENCES Breeds(breed_id))''')\n",
    "\n",
    "# Function to get breed ID from breed name or insert new breed and get its ID\n",
    "def get_or_insert_breed_id(breed_name):\n",
    "    cursor.execute(\"SELECT breed_id FROM Breeds WHERE breed_name = ?\", (breed_name,))\n",
    "    result = cursor.fetchone()\n",
    "    if result:\n",
    "        return result[0]\n",
    "    else:\n",
    "        cursor.execute(\"INSERT INTO Breeds (breed_name) VALUES (?)\", (breed_name,))\n",
    "        conn.commit()\n",
    "        return cursor.lastrowid\n",
    "\n",
    "# Function to traverse directory structure and insert image data into database\n",
    "def insert_image_data(directory):\n",
    "    for breed_name in os.listdir(directory):\n",
    "        breed_directory = os.path.join(directory, breed_name)\n",
    "        if os.path.isdir(breed_directory):\n",
    "            breed_id = get_or_insert_breed_id(breed_name)\n",
    "            for filename in os.listdir(breed_directory):\n",
    "                if filename.endswith(\".jpg\"):\n",
    "                    file_path = os.path.join(breed_directory, filename)\n",
    "                    cursor.execute(\"INSERT INTO Images (file_path, breed_id) VALUES (?, ?)\", (file_path, breed_id))\n",
    "    conn.commit()\n",
    "\n",
    "# Insert image data into database\n",
    "insert_image_data('/Users/kalebdecker/Documents/GitHub/Project-4-Group-3/Data/Resources')\n",
    "\n",
    "# Query data from Images table to verify\n",
    "cursor.execute(\"SELECT * FROM Images\")\n",
    "image_data = cursor.fetchall()\n",
    "\n",
    "# Convert to DataFrame for further inspection\n",
    "df = pd.DataFrame(image_data, columns=['image_id', 'file_path', 'breed_id'])\n",
    "print(\"Image DataFrame:\")\n",
    "print(df)\n",
    "\n",
    "# Close connection\n",
    "conn.close()\n",
    "\n",
    "\n",
    "\n"
   ]
  },
  {
   "cell_type": "code",
   "execution_count": null,
   "metadata": {},
   "outputs": [],
   "source": []
  },
  {
   "cell_type": "code",
   "execution_count": null,
   "metadata": {},
   "outputs": [],
   "source": []
  },
  {
   "cell_type": "code",
   "execution_count": null,
   "metadata": {},
   "outputs": [],
   "source": []
  }
 ],
 "metadata": {
  "kernelspec": {
   "display_name": "base",
   "language": "python",
   "name": "python3"
  },
  "language_info": {
   "codemirror_mode": {
    "name": "ipython",
    "version": 3
   },
   "file_extension": ".py",
   "mimetype": "text/x-python",
   "name": "python",
   "nbconvert_exporter": "python",
   "pygments_lexer": "ipython3",
   "version": "3.11.5"
  }
 },
 "nbformat": 4,
 "nbformat_minor": 2
}
