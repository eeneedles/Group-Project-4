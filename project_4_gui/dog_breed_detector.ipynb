{
 "cells": [
  {
   "cell_type": "code",
   "execution_count": 1,
   "id": "898fbcfd",
   "metadata": {},
   "outputs": [
    {
     "name": "stderr",
     "output_type": "stream",
     "text": [
      "C:\\Users\\jackr\\anaconda3\\Lib\\site-packages\\paramiko\\transport.py:219: CryptographyDeprecationWarning: Blowfish has been deprecated\n",
      "  \"class\": algorithms.Blowfish,\n"
     ]
    }
   ],
   "source": [
    "#https://github.com/mistiiberry-exe/imageprocessing_using_python_and_tk/blob/main/imageprocessingui-checkpoint.ipynb\n",
    "import tkinter as tk\n",
    "from tkinter import *\n",
    "from tkinter import Tk, Label\n",
    "from tkinter import ttk\n",
    "import PIL\n",
    "from PIL import Image\n",
    "from PIL import ImageTk\n",
    "from PIL import ImageFilter\n",
    "from tkinter import filedialog\n",
    "import cv2\n",
    "from skimage import filters\n",
    "import skimage\n",
    "\n",
    "import numpy as np\n",
    "from PIL import Image, ImageTk\n",
    "\n",
    "# Create the main window\n",
    "parent = Tk()\n",
    "parent.title(\"Image in Tkinter\")\n",
    "\n",
    "\n",
    "\n",
    " \n",
    "# Adjust size\n",
    "parent.geometry(\"400x500\")\n",
    " \n",
    "# set minimum window size value\n",
    "parent.minsize(400,500)\n",
    " \n",
    "# set maximum window size value\n",
    "parent.maxsize(400,500)\n",
    "\n",
    "# Start the Tkinter event loop\n",
    "\n"
   ]
  },
  {
   "cell_type": "code",
   "execution_count": 2,
   "id": "5e6e929b",
   "metadata": {},
   "outputs": [
    {
     "name": "stdout",
     "output_type": "stream",
     "text": [
      "WARNING:tensorflow:From C:\\Users\\jackr\\anaconda3\\Lib\\site-packages\\keras\\src\\losses.py:2976: The name tf.losses.sparse_softmax_cross_entropy is deprecated. Please use tf.compat.v1.losses.sparse_softmax_cross_entropy instead.\n",
      "\n"
     ]
    }
   ],
   "source": [
    "\n",
    "import numpy as np\n",
    "import tensorflow as tf\n",
    "from tensorflow import keras\n",
    "from tensorflow.keras.models import Sequential\n",
    "from tensorflow.keras.utils import to_categorical\n",
    "from tensorflow.keras.layers import Dense\n",
    "from tensorflow.keras.models import Sequential\n",
    "from sklearn.preprocessing import MinMaxScaler\n",
    "import matplotlib.pyplot as plt\n",
    "import numpy as np\n",
    "\n",
    "import keras\n",
    "from keras.models import Sequential\n",
    "from keras.layers import Dense, Dropout, Flatten\n",
    "from keras.layers import Conv2D, MaxPooling2D\n",
    "from keras.utils import to_categorical\n",
    "from keras.preprocessing import image\n",
    "import numpy as np\n",
    "import pandas as pd\n",
    "import matplotlib.pyplot as plt\n",
    "from sklearn.model_selection import train_test_split\n",
    "from keras.utils import to_categorical\n",
    "\n",
    "import tensorflow_hub as hub\n",
    "import matplotlib.pylab as plt\n",
    "from __future__ import absolute_import, division, print_function, unicode_literals\n",
    "np.random.seed(0)\n",
    "from keras.models import load_model\n",
    "from keras.preprocessing import image\n",
    "import numpy as np\n",
    "from keras.preprocessing.image import img_to_array\n"
   ]
  },
  {
   "cell_type": "code",
   "execution_count": 3,
   "id": "60fdcc8f",
   "metadata": {},
   "outputs": [
    {
     "name": "stdout",
     "output_type": "stream",
     "text": [
      "stanford_dogs/cropped/train\n",
      "Found 2400 images belonging to 120 classes.\n",
      "Found 9600 images belonging to 120 classes.\n"
     ]
    }
   ],
   "source": [
    "data_root = 'stanford_dogs/cropped/train'\n",
    "IMAGE_SHAPE = (224, 224)\n",
    "TRAINING_DATA_DIR = str(data_root)\n",
    "print(TRAINING_DATA_DIR);\n",
    "\n",
    "datagen_kwargs = dict(rescale=1./255, validation_split=.20)\n",
    "valid_datagen = tf.keras.preprocessing.image.ImageDataGenerator(**datagen_kwargs)\n",
    "valid_generator = valid_datagen.flow_from_directory(\n",
    "  TRAINING_DATA_DIR,\n",
    "  subset=\"validation\",\n",
    "  shuffle=True,\n",
    "  target_size=IMAGE_SHAPE\n",
    "  )\n",
    "train_datagen = tf.keras.preprocessing.image.ImageDataGenerator(**datagen_kwargs)\n",
    "train_generator = train_datagen.flow_from_directory(\n",
    "  TRAINING_DATA_DIR,\n",
    "  subset=\"training\",\n",
    "  shuffle=True,\n",
    "  target_size=IMAGE_SHAPE\n",
    "  )"
   ]
  },
  {
   "cell_type": "code",
   "execution_count": 4,
   "id": "a2cfe318",
   "metadata": {},
   "outputs": [],
   "source": [
    "mydict = ['N02085620-Chihuahua', 'N02085782-Japanese_Spaniel',\n",
    " 'N02085936-Maltese_Dog', 'N02086079-Pekinese', 'N02086240-Shih-Tzu',\n",
    " 'N02086646-Blenheim_Spaniel', 'N02086910-Papillon', 'N02087046-Toy_Terrier',\n",
    " 'N02087394-Rhodesian_Ridgeback', 'N02088094-Afghan_Hound',\n",
    " 'N02088238-Basset', 'N02088364-Beagle', 'N02088466-Bloodhound',\n",
    " 'N02088632-Bluetick', 'N02089078-Black-And-Tan_Coonhound',\n",
    " 'N02089867-Walker_Hound', 'N02089973-English_Foxhound', 'N02090379-Redbone',\n",
    " 'N02090622-Borzoi', 'N02090721-Irish_Wolfhound',\n",
    " 'N02091032-Italian_Greyhound', 'N02091134-Whippet',\n",
    " 'N02091244-Ibizan_Hound', 'N02091467-Norwegian_Elkhound',\n",
    " 'N02091635-Otterhound', 'N02091831-Saluki', 'N02092002-Scottish_Deerhound',\n",
    " 'N02092339-Weimaraner', 'N02093256-Staffordshire_Bullterrier',\n",
    " 'N02093428-American_Staffordshire_Terrier', 'N02093647-Bedlington_Terrier',\n",
    " 'N02093754-Border_Terrier', 'N02093859-Kerry_Blue_Terrier',\n",
    " 'N02093991-Irish_Terrier', 'N02094114-Norfolk_Terrier',\n",
    " 'N02094258-Norwich_Terrier', 'N02094433-Yorkshire_Terrier',\n",
    " 'N02095314-Wire-Haired_Fox_Terrier', 'N02095570-Lakeland_Terrier',\n",
    " 'N02095889-Sealyham_Terrier', 'N02096051-Airedale', 'N02096177-Cairn',\n",
    " 'N02096294-Australian_Terrier', 'N02096437-Dandie_Dinmont',\n",
    " 'N02096585-Boston_Bull', 'N02097047-Miniature_Schnauzer',\n",
    " 'N02097130-Giant_Schnauzer', 'N02097209-Standard_Schnauzer',\n",
    " 'N02097298-Scotch_Terrier', 'N02097474-Tibetan_Terrier',\n",
    " 'N02097658-Silky_Terrier', 'N02098105-Soft-Coated_Wheaten_Terrier',\n",
    " 'N02098286-West_Highland_White_Terrier', 'N02098413-Lhasa',\n",
    " 'N02099267-Flat-Coated_Retriever', 'N02099429-Curly-Coated_Retriever',\n",
    " 'N02099601-Golden_Retriever', 'N02099712-Labrador_Retriever',\n",
    " 'N02099849-Chesapeake_Bay_Retriever',\n",
    " 'N02100236-German_Short-Haired_Pointer', 'N02100583-Vizsla',\n",
    " 'N02100735-English_Setter', 'N02100877-Irish_Setter',\n",
    " 'N02101006-Gordon_Setter', 'N02101388-Brittany_Spaniel',\n",
    " 'N02101556-Clumber', 'N02102040-English_Springer',\n",
    " 'N02102177-Welsh_Springer_Spaniel', 'N02102318-Cocker_Spaniel',\n",
    " 'N02102480-Sussex_Spaniel', 'N02102973-Irish_Water_Spaniel',\n",
    " 'N02104029-Kuvasz', 'N02104365-Schipperke', 'N02105056-Groenendael',\n",
    " 'N02105162-Malinois', 'N02105251-Briard', 'N02105412-Kelpie',\n",
    " 'N02105505-Komondor', 'N02105641-Old_English_Sheepdog',\n",
    " 'N02105855-Shetland_Sheepdog', 'N02106030-Collie',\n",
    " 'N02106166-Border_Collie', 'N02106382-Bouvier_Des_Flandres',\n",
    " 'N02106550-Rottweiler', 'N02106662-German_Shepherd', 'N02107142-Doberman',\n",
    " 'N02107312-Miniature_Pinscher', 'N02107574-Greater_Swiss_Mountain_Dog',\n",
    " 'N02107683-Bernese_Mountain_Dog', 'N02107908-Appenzeller',\n",
    " 'N02108000-Entlebucher', 'N02108089-Boxer', 'N02108422-Bull_Mastiff',\n",
    " 'N02108551-Tibetan_Mastiff', 'N02108915-French_Bulldog',\n",
    " 'N02109047-Great_Dane', 'N02109525-Saint_Bernard', 'N02109961-Eskimo_Dog',\n",
    " 'N02110063-Malamute', 'N02110185-Siberian_Husky', 'N02110627-Affenpinscher',\n",
    " 'N02110806-Basenji', 'N02110958-Pug', 'N02111129-Leonberg',\n",
    " 'N02111277-Newfoundland', 'N02111500-Great_Pyrenees', 'N02111889-Samoyed',\n",
    " 'N02112018-Pomeranian', 'N02112137-Chow', 'N02112350-Keeshond',\n",
    " 'N02112706-Brabancon_Griffon', 'N02113023-Pembroke', 'N02113186-Cardigan',\n",
    " 'N02113624-Toy_Poodle', 'N02113712-Miniature_Poodle',\n",
    " 'N02113799-Standard_Poodle', 'N02113978-Mexican_Hairless',\n",
    " 'N02115641-Dingo', 'N02115913-Dhole', 'N02116738-African_Hunting_Dog']\n"
   ]
  },
  {
   "cell_type": "code",
   "execution_count": 5,
   "id": "ed492333",
   "metadata": {},
   "outputs": [
    {
     "name": "stdout",
     "output_type": "stream",
     "text": [
      "WARNING:tensorflow:From C:\\Users\\jackr\\anaconda3\\Lib\\site-packages\\keras\\src\\backend.py:1398: The name tf.executing_eagerly_outside_functions is deprecated. Please use tf.compat.v1.executing_eagerly_outside_functions instead.\n",
      "\n",
      "WARNING:tensorflow:From C:\\Users\\jackr\\anaconda3\\Lib\\site-packages\\tensorflow_hub\\resolver.py:120: The name tf.gfile.MakeDirs is deprecated. Please use tf.io.gfile.makedirs instead.\n",
      "\n"
     ]
    },
    {
     "name": "stderr",
     "output_type": "stream",
     "text": [
      "WARNING:tensorflow:From C:\\Users\\jackr\\anaconda3\\Lib\\site-packages\\tensorflow_hub\\resolver.py:120: The name tf.gfile.MakeDirs is deprecated. Please use tf.io.gfile.makedirs instead.\n",
      "\n"
     ]
    },
    {
     "name": "stdout",
     "output_type": "stream",
     "text": [
      "WARNING:tensorflow:From C:\\Users\\jackr\\anaconda3\\Lib\\site-packages\\tensorflow_hub\\module_v2.py:126: The name tf.saved_model.load_v2 is deprecated. Please use tf.compat.v2.saved_model.load instead.\n",
      "\n"
     ]
    },
    {
     "name": "stderr",
     "output_type": "stream",
     "text": [
      "WARNING:tensorflow:From C:\\Users\\jackr\\anaconda3\\Lib\\site-packages\\tensorflow_hub\\module_v2.py:126: The name tf.saved_model.load_v2 is deprecated. Please use tf.compat.v2.saved_model.load instead.\n",
      "\n"
     ]
    }
   ],
   "source": [
    "saved_model_path = \"dog_model_2.h5\"\n",
    "\n",
    "\n",
    "# to reload the model\n",
    "\n",
    "model = tf.keras.models.load_model(\n",
    "       (saved_model_path),\n",
    "       custom_objects={'KerasLayer':hub.KerasLayer}\n",
    ")"
   ]
  },
  {
   "cell_type": "code",
   "execution_count": 6,
   "id": "1c2e0f51",
   "metadata": {},
   "outputs": [],
   "source": [
    "label = Label(parent, text = \"AI Dog Breed Detector\")\n",
    "label.place(relx = 0.5, rely = 0.1, anchor = CENTER)"
   ]
  },
  {
   "cell_type": "code",
   "execution_count": 7,
   "id": "6b539a9f",
   "metadata": {},
   "outputs": [],
   "source": [
    "def upload():\n",
    "    global panelA, panelB, img\n",
    "    f_types = [('Jpg Files', '*.jpg')]\n",
    "    path = filedialog.askopenfilename(filetypes=f_types)\n",
    "    img = cv2.imread(path) \n",
    "    img = cv2.resize(img, (224,224))\n",
    "\n",
    "    img = cv2.cvtColor(img, cv2.COLOR_BGR2RGB)\n",
    "    image1 = Image.fromarray(img)\n",
    "\n",
    "    image1 = ImageTk.PhotoImage(image1)\n",
    "\n",
    "    panelA = Label(image=image1, borderwidth=5, relief=\"sunken\")\n",
    "    panelA.image = image1\n",
    "    panelA.place(relx = 0.5, rely = 0.5, anchor = CENTER)\n",
    "    \n",
    "    return img"
   ]
  },
  {
   "cell_type": "code",
   "execution_count": 8,
   "id": "218c6210",
   "metadata": {},
   "outputs": [],
   "source": [
    "def predict():\n",
    "    img_array = image.img_to_array(img)\n",
    "    img_array = np.expand_dims(img_array, axis=0)\n",
    "    img_array = img_array / 255.0\n",
    "    predictions = model.predict(img_array)\n",
    "    predicted_class = np.argmax(predictions, axis=1)\n",
    "    print(predicted_class)\n",
    "    breed = np.array(mydict)[predicted_class.astype(int)]\n",
    "    #print(num)\n",
    "    #breed = dataset_labels[predicted_class]\n",
    "    breed = str(breed)\n",
    "    breed = breed.split(\"-\",1)[1]\n",
    "    breed = breed.split(\"'\",1)[0]\n",
    "    my_string_var.set(\"Predicted Breed: \" +breed)\n",
    "  "
   ]
  },
  {
   "cell_type": "code",
   "execution_count": 9,
   "id": "617fb9ea",
   "metadata": {},
   "outputs": [],
   "source": [
    "btn= Button(parent, text=\"UPLOAD\", fg=\"black\", bg=\"lavender\", command=upload)\n",
    "btn.place(relx = 0.5, rely = 0.8, anchor = CENTER)\n",
    "\n",
    "btn= Button(parent, text=\"PREDICT\", fg=\"black\", bg=\"lavender\", command=predict)\n",
    "btn.place(relx = 0.5, rely = 0.9, anchor = CENTER)\n",
    "my_string_var = StringVar()\n",
    "my_string_var.set(\"\")\n",
    "my_label = Label(parent,  textvariable = my_string_var)\n",
    "my_label.place(relx = 0.5, rely = 0.2, anchor = CENTER)"
   ]
  },
  {
   "cell_type": "code",
   "execution_count": null,
   "id": "38bb14bc",
   "metadata": {},
   "outputs": [
    {
     "name": "stdout",
     "output_type": "stream",
     "text": [
      "1/1 [==============================] - 0s 433ms/step\n",
      "[91]\n",
      "1/1 [==============================] - 0s 29ms/step\n",
      "[56]\n",
      "1/1 [==============================] - 0s 27ms/step\n",
      "[105]\n"
     ]
    }
   ],
   "source": [
    "parent.mainloop()\n"
   ]
  },
  {
   "cell_type": "code",
   "execution_count": null,
   "id": "460a6281",
   "metadata": {},
   "outputs": [],
   "source": []
  },
  {
   "cell_type": "code",
   "execution_count": null,
   "id": "ae12a354",
   "metadata": {},
   "outputs": [],
   "source": []
  }
 ],
 "metadata": {
  "kernelspec": {
   "display_name": "Python 3 (ipykernel)",
   "language": "python",
   "name": "python3"
  },
  "language_info": {
   "codemirror_mode": {
    "name": "ipython",
    "version": 3
   },
   "file_extension": ".py",
   "mimetype": "text/x-python",
   "name": "python",
   "nbconvert_exporter": "python",
   "pygments_lexer": "ipython3",
   "version": "3.11.5"
  }
 },
 "nbformat": 4,
 "nbformat_minor": 5
}
